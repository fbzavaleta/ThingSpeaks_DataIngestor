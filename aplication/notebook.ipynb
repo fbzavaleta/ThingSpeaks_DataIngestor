{
  "cells": [
    {
      "cell_type": "code",
      "execution_count": 6,
      "metadata": {
        "id": "6N1WQsm8mgFw"
      },
      "outputs": [],
      "source": [
        "from sqlalchemy import create_engine\n",
        "import pandas as pd\n",
        "import pymysql\n",
        "import datetime\n",
        "\n",
        "db_connection = pymysql.connect(host='localhost', port=3306, user='root', password='root', db='data_sensors')"
      ]
    },
    {
      "cell_type": "code",
      "execution_count": 19,
      "metadata": {
        "colab": {
          "base_uri": "https://localhost:8080/",
          "height": 363
        },
        "id": "FavkrTDJmgFy",
        "outputId": "6dc5c8c2-11e0-45bc-ef5b-5469421ee7b6"
      },
      "outputs": [
        {
          "data": {
            "text/html": [
              "<div>\n",
              "<style scoped>\n",
              "    .dataframe tbody tr th:only-of-type {\n",
              "        vertical-align: middle;\n",
              "    }\n",
              "\n",
              "    .dataframe tbody tr th {\n",
              "        vertical-align: top;\n",
              "    }\n",
              "\n",
              "    .dataframe thead th {\n",
              "        text-align: right;\n",
              "    }\n",
              "</style>\n",
              "<table border=\"1\" class=\"dataframe\">\n",
              "  <thead>\n",
              "    <tr style=\"text-align: right;\">\n",
              "      <th></th>\n",
              "      <th>id</th>\n",
              "      <th>entry_id</th>\n",
              "      <th>eCO2</th>\n",
              "      <th>eTVOC</th>\n",
              "      <th>Temperature</th>\n",
              "      <th>Air_pressure</th>\n",
              "      <th>Humidity</th>\n",
              "      <th>temperature_</th>\n",
              "      <th>Controller_temperature</th>\n",
              "      <th>G</th>\n",
              "      <th>date_creation</th>\n",
              "      <th>time_float</th>\n",
              "    </tr>\n",
              "  </thead>\n",
              "  <tbody>\n",
              "    <tr>\n",
              "      <th>0</th>\n",
              "      <td>1</td>\n",
              "      <td>34773</td>\n",
              "      <td>698.5</td>\n",
              "      <td>1654.5</td>\n",
              "      <td>20.85</td>\n",
              "      <td>971.00</td>\n",
              "      <td>39.94</td>\n",
              "      <td>21.06</td>\n",
              "      <td>41.90</td>\n",
              "      <td>4.36</td>\n",
              "      <td>2022-04-06</td>\n",
              "      <td>21.0633</td>\n",
              "    </tr>\n",
              "    <tr>\n",
              "      <th>1</th>\n",
              "      <td>2</td>\n",
              "      <td>34774</td>\n",
              "      <td>608.2</td>\n",
              "      <td>1663.7</td>\n",
              "      <td>20.03</td>\n",
              "      <td>970.96</td>\n",
              "      <td>42.40</td>\n",
              "      <td>19.99</td>\n",
              "      <td>41.07</td>\n",
              "      <td>4.32</td>\n",
              "      <td>2022-04-06</td>\n",
              "      <td>21.2553</td>\n",
              "    </tr>\n",
              "    <tr>\n",
              "      <th>2</th>\n",
              "      <td>3</td>\n",
              "      <td>34776</td>\n",
              "      <td>417.2</td>\n",
              "      <td>682.9</td>\n",
              "      <td>17.71</td>\n",
              "      <td>970.91</td>\n",
              "      <td>47.25</td>\n",
              "      <td>17.90</td>\n",
              "      <td>38.38</td>\n",
              "      <td>2.92</td>\n",
              "      <td>2022-04-06</td>\n",
              "      <td>21.4483</td>\n",
              "    </tr>\n",
              "    <tr>\n",
              "      <th>3</th>\n",
              "      <td>4</td>\n",
              "      <td>34777</td>\n",
              "      <td>500.8</td>\n",
              "      <td>591.2</td>\n",
              "      <td>19.33</td>\n",
              "      <td>970.78</td>\n",
              "      <td>42.97</td>\n",
              "      <td>19.30</td>\n",
              "      <td>40.14</td>\n",
              "      <td>2.93</td>\n",
              "      <td>2022-04-06</td>\n",
              "      <td>21.6403</td>\n",
              "    </tr>\n",
              "    <tr>\n",
              "      <th>4</th>\n",
              "      <td>5</td>\n",
              "      <td>34778</td>\n",
              "      <td>527.4</td>\n",
              "      <td>670.9</td>\n",
              "      <td>19.67</td>\n",
              "      <td>970.77</td>\n",
              "      <td>42.13</td>\n",
              "      <td>19.87</td>\n",
              "      <td>40.78</td>\n",
              "      <td>3.05</td>\n",
              "      <td>2022-04-06</td>\n",
              "      <td>21.8325</td>\n",
              "    </tr>\n",
              "  </tbody>\n",
              "</table>\n",
              "</div>"
            ],
            "text/plain": [
              "   id  entry_id   eCO2   eTVOC  Temperature  Air_pressure  Humidity  \\\n",
              "0   1     34773  698.5  1654.5        20.85        971.00     39.94   \n",
              "1   2     34774  608.2  1663.7        20.03        970.96     42.40   \n",
              "2   3     34776  417.2   682.9        17.71        970.91     47.25   \n",
              "3   4     34777  500.8   591.2        19.33        970.78     42.97   \n",
              "4   5     34778  527.4   670.9        19.67        970.77     42.13   \n",
              "\n",
              "   temperature_  Controller_temperature     G date_creation  time_float  \n",
              "0         21.06                   41.90  4.36    2022-04-06     21.0633  \n",
              "1         19.99                   41.07  4.32    2022-04-06     21.2553  \n",
              "2         17.90                   38.38  2.92    2022-04-06     21.4483  \n",
              "3         19.30                   40.14  2.93    2022-04-06     21.6403  \n",
              "4         19.87                   40.78  3.05    2022-04-06     21.8325  "
            ]
          },
          "execution_count": 19,
          "metadata": {},
          "output_type": "execute_result"
        }
      ],
      "source": [
        "df = pd.read_sql('SELECT * FROM air_quality_sensors', con=db_connection)\n",
        "df.head(5)"
      ]
    },
    {
      "cell_type": "code",
      "execution_count": 21,
      "metadata": {},
      "outputs": [
        {
          "data": {
            "text/plain": [
              "'2:44:54.996000'"
            ]
          },
          "execution_count": 21,
          "metadata": {},
          "output_type": "execute_result"
        }
      ],
      "source": [
        "#verificando hora\n",
        "r = datetime.timedelta(hours=5.74861 - 3)\n",
        "str(r)"
      ]
    },
    {
      "cell_type": "code",
      "execution_count": 25,
      "metadata": {},
      "outputs": [
        {
          "name": "stderr",
          "output_type": "stream",
          "text": [
            "c:\\Users\\igorf\\AppData\\Local\\Programs\\Python\\Python37\\lib\\site-packages\\pandas\\core\\indexing.py:1637: SettingWithCopyWarning: \n",
            "A value is trying to be set on a copy of a slice from a DataFrame\n",
            "\n",
            "See the caveats in the documentation: https://pandas.pydata.org/pandas-docs/stable/user_guide/indexing.html#returning-a-view-versus-a-copy\n",
            "  self._setitem_single_block(indexer, value, name)\n"
          ]
        },
        {
          "ename": "TypeError",
          "evalue": "float() argument must be a string or a number, not 'datetime.timedelta'",
          "output_type": "error",
          "traceback": [
            "\u001b[1;31m---------------------------------------------------------------------------\u001b[0m",
            "\u001b[1;31mTypeError\u001b[0m                                 Traceback (most recent call last)",
            "\u001b[1;32m~\\AppData\\Local\\Temp\\ipykernel_5264\\1188300507.py\u001b[0m in \u001b[0;36m<module>\u001b[1;34m\u001b[0m\n\u001b[0;32m      1\u001b[0m \u001b[1;32mimport\u001b[0m \u001b[0mnumpy\u001b[0m \u001b[1;32mas\u001b[0m \u001b[0mnp\u001b[0m\u001b[1;33m\u001b[0m\u001b[1;33m\u001b[0m\u001b[0m\n\u001b[0;32m      2\u001b[0m \u001b[0mdf\u001b[0m\u001b[1;33m[\u001b[0m\u001b[1;34m'time_float'\u001b[0m\u001b[1;33m]\u001b[0m\u001b[1;33m.\u001b[0m\u001b[0miloc\u001b[0m\u001b[1;33m[\u001b[0m\u001b[1;36m0\u001b[0m\u001b[1;33m]\u001b[0m \u001b[1;33m=\u001b[0m \u001b[0mdatetime\u001b[0m\u001b[1;33m.\u001b[0m\u001b[0mtimedelta\u001b[0m\u001b[1;33m(\u001b[0m\u001b[0mhours\u001b[0m\u001b[1;33m=\u001b[0m\u001b[1;36m5.74861\u001b[0m \u001b[1;33m-\u001b[0m \u001b[1;36m3\u001b[0m\u001b[1;33m)\u001b[0m\u001b[1;33m\u001b[0m\u001b[1;33m\u001b[0m\u001b[0m\n\u001b[1;32m----> 3\u001b[1;33m \u001b[0mdf\u001b[0m\u001b[1;33m[\u001b[0m\u001b[1;34m'time_float'\u001b[0m\u001b[1;33m]\u001b[0m\u001b[1;33m.\u001b[0m\u001b[0mapply\u001b[0m\u001b[1;33m(\u001b[0m\u001b[0mnp\u001b[0m\u001b[1;33m.\u001b[0m\u001b[0mfloat64\u001b[0m\u001b[1;33m)\u001b[0m\u001b[1;33m\u001b[0m\u001b[1;33m\u001b[0m\u001b[0m\n\u001b[0m",
            "\u001b[1;32mc:\\Users\\igorf\\AppData\\Local\\Programs\\Python\\Python37\\lib\\site-packages\\pandas\\core\\series.py\u001b[0m in \u001b[0;36mapply\u001b[1;34m(self, func, convert_dtype, args, **kwds)\u001b[0m\n\u001b[0;32m   4136\u001b[0m             \u001b[1;32melse\u001b[0m\u001b[1;33m:\u001b[0m\u001b[1;33m\u001b[0m\u001b[1;33m\u001b[0m\u001b[0m\n\u001b[0;32m   4137\u001b[0m                 \u001b[0mvalues\u001b[0m \u001b[1;33m=\u001b[0m \u001b[0mself\u001b[0m\u001b[1;33m.\u001b[0m\u001b[0mastype\u001b[0m\u001b[1;33m(\u001b[0m\u001b[0mobject\u001b[0m\u001b[1;33m)\u001b[0m\u001b[1;33m.\u001b[0m\u001b[0m_values\u001b[0m\u001b[1;33m\u001b[0m\u001b[1;33m\u001b[0m\u001b[0m\n\u001b[1;32m-> 4138\u001b[1;33m                 \u001b[0mmapped\u001b[0m \u001b[1;33m=\u001b[0m \u001b[0mlib\u001b[0m\u001b[1;33m.\u001b[0m\u001b[0mmap_infer\u001b[0m\u001b[1;33m(\u001b[0m\u001b[0mvalues\u001b[0m\u001b[1;33m,\u001b[0m \u001b[0mf\u001b[0m\u001b[1;33m,\u001b[0m \u001b[0mconvert\u001b[0m\u001b[1;33m=\u001b[0m\u001b[0mconvert_dtype\u001b[0m\u001b[1;33m)\u001b[0m\u001b[1;33m\u001b[0m\u001b[1;33m\u001b[0m\u001b[0m\n\u001b[0m\u001b[0;32m   4139\u001b[0m \u001b[1;33m\u001b[0m\u001b[0m\n\u001b[0;32m   4140\u001b[0m         \u001b[1;32mif\u001b[0m \u001b[0mlen\u001b[0m\u001b[1;33m(\u001b[0m\u001b[0mmapped\u001b[0m\u001b[1;33m)\u001b[0m \u001b[1;32mand\u001b[0m \u001b[0misinstance\u001b[0m\u001b[1;33m(\u001b[0m\u001b[0mmapped\u001b[0m\u001b[1;33m[\u001b[0m\u001b[1;36m0\u001b[0m\u001b[1;33m]\u001b[0m\u001b[1;33m,\u001b[0m \u001b[0mSeries\u001b[0m\u001b[1;33m)\u001b[0m\u001b[1;33m:\u001b[0m\u001b[1;33m\u001b[0m\u001b[1;33m\u001b[0m\u001b[0m\n",
            "\u001b[1;32mpandas\\_libs\\lib.pyx\u001b[0m in \u001b[0;36mpandas._libs.lib.map_infer\u001b[1;34m()\u001b[0m\n",
            "\u001b[1;31mTypeError\u001b[0m: float() argument must be a string or a number, not 'datetime.timedelta'"
          ]
        }
      ],
      "source": [
        "\n"
      ]
    },
    {
      "cell_type": "code",
      "execution_count": 3,
      "metadata": {
        "colab": {
          "base_uri": "https://localhost:8080/"
        },
        "id": "QEEv2Q6nmgFz",
        "outputId": "906b9e7d-5224-478a-978e-32259c7960ca"
      },
      "outputs": [
        {
          "data": {
            "text/plain": [
              "(8066, 12)"
            ]
          },
          "execution_count": 3,
          "metadata": {},
          "output_type": "execute_result"
        }
      ],
      "source": [
        "# Quantos dados? \n",
        "df.shape"
      ]
    },
    {
      "cell_type": "markdown",
      "metadata": {
        "id": "vaotmpz-nuN7"
      },
      "source": [
        "Os tipos Object são iguais String"
      ]
    },
    {
      "cell_type": "code",
      "execution_count": 5,
      "metadata": {
        "colab": {
          "base_uri": "https://localhost:8080/"
        },
        "id": "R3AobYGFmgF0",
        "outputId": "21823245-94ce-4cd8-89d1-7b3deb6467e6"
      },
      "outputs": [
        {
          "name": "stdout",
          "output_type": "stream",
          "text": [
            "<class 'pandas.core.frame.DataFrame'>\n",
            "RangeIndex: 8066 entries, 0 to 8065\n",
            "Data columns (total 12 columns):\n",
            " #   Column                  Non-Null Count  Dtype  \n",
            "---  ------                  --------------  -----  \n",
            " 0   id                      8066 non-null   int64  \n",
            " 1   entry_id                8066 non-null   int64  \n",
            " 2   eCO2                    8066 non-null   float64\n",
            " 3   eTVOC                   8066 non-null   float64\n",
            " 4   Temperature             8066 non-null   float64\n",
            " 5   Air_pressure            8066 non-null   float64\n",
            " 6   Humidity                8066 non-null   float64\n",
            " 7   temperature_            8066 non-null   float64\n",
            " 8   Controller_temperature  8066 non-null   float64\n",
            " 9   G                       8066 non-null   float64\n",
            " 10  date_creation           8066 non-null   object \n",
            " 11  time_float              8066 non-null   float64\n",
            "dtypes: float64(9), int64(2), object(1)\n",
            "memory usage: 756.3+ KB\n"
          ]
        }
      ],
      "source": [
        "# Quais os tipos? Dados faltantes? \n",
        "df.info()"
      ]
    },
    {
      "cell_type": "code",
      "execution_count": 6,
      "metadata": {
        "colab": {
          "base_uri": "https://localhost:8080/"
        },
        "id": "GeLPux8goXKH",
        "outputId": "061376b0-9c6d-4ed5-d9ed-4e7b8568c661"
      },
      "outputs": [
        {
          "data": {
            "text/plain": [
              "65"
            ]
          },
          "execution_count": 6,
          "metadata": {},
          "output_type": "execute_result"
        }
      ],
      "source": [
        "#de quantos dias diferentes\n",
        "df['date_creation'].nunique()"
      ]
    },
    {
      "cell_type": "code",
      "execution_count": 7,
      "metadata": {
        "colab": {
          "base_uri": "https://localhost:8080/",
          "height": 300
        },
        "id": "B58-fcJumgF1",
        "outputId": "94f6cf64-4b81-4318-a9c6-f5eea1e23b86"
      },
      "outputs": [
        {
          "data": {
            "text/html": [
              "<div>\n",
              "<style scoped>\n",
              "    .dataframe tbody tr th:only-of-type {\n",
              "        vertical-align: middle;\n",
              "    }\n",
              "\n",
              "    .dataframe tbody tr th {\n",
              "        vertical-align: top;\n",
              "    }\n",
              "\n",
              "    .dataframe thead th {\n",
              "        text-align: right;\n",
              "    }\n",
              "</style>\n",
              "<table border=\"1\" class=\"dataframe\">\n",
              "  <thead>\n",
              "    <tr style=\"text-align: right;\">\n",
              "      <th></th>\n",
              "      <th>id</th>\n",
              "      <th>entry_id</th>\n",
              "      <th>eCO2</th>\n",
              "      <th>eTVOC</th>\n",
              "      <th>Temperature</th>\n",
              "      <th>Air_pressure</th>\n",
              "      <th>Humidity</th>\n",
              "      <th>temperature_</th>\n",
              "      <th>Controller_temperature</th>\n",
              "      <th>G</th>\n",
              "      <th>time_float</th>\n",
              "    </tr>\n",
              "  </thead>\n",
              "  <tbody>\n",
              "    <tr>\n",
              "      <th>count</th>\n",
              "      <td>8066.000000</td>\n",
              "      <td>8066.000000</td>\n",
              "      <td>8066.000000</td>\n",
              "      <td>8066.000000</td>\n",
              "      <td>8066.000000</td>\n",
              "      <td>8066.000000</td>\n",
              "      <td>8066.000000</td>\n",
              "      <td>8066.000000</td>\n",
              "      <td>8066.000000</td>\n",
              "      <td>8066.000000</td>\n",
              "      <td>8066.000000</td>\n",
              "    </tr>\n",
              "    <tr>\n",
              "      <th>mean</th>\n",
              "      <td>4033.500000</td>\n",
              "      <td>38740.337590</td>\n",
              "      <td>537.121535</td>\n",
              "      <td>2715.315572</td>\n",
              "      <td>20.679116</td>\n",
              "      <td>983.857613</td>\n",
              "      <td>46.503495</td>\n",
              "      <td>20.646332</td>\n",
              "      <td>41.298509</td>\n",
              "      <td>3.173923</td>\n",
              "      <td>12.018937</td>\n",
              "    </tr>\n",
              "    <tr>\n",
              "      <th>std</th>\n",
              "      <td>2328.597969</td>\n",
              "      <td>2326.778672</td>\n",
              "      <td>110.125333</td>\n",
              "      <td>3400.641419</td>\n",
              "      <td>2.159467</td>\n",
              "      <td>6.860016</td>\n",
              "      <td>11.153372</td>\n",
              "      <td>2.132563</td>\n",
              "      <td>2.167896</td>\n",
              "      <td>2.410242</td>\n",
              "      <td>6.943144</td>\n",
              "    </tr>\n",
              "    <tr>\n",
              "      <th>min</th>\n",
              "      <td>1.000000</td>\n",
              "      <td>34773.000000</td>\n",
              "      <td>406.500000</td>\n",
              "      <td>0.000000</td>\n",
              "      <td>11.650000</td>\n",
              "      <td>960.320000</td>\n",
              "      <td>21.220000</td>\n",
              "      <td>10.690000</td>\n",
              "      <td>31.340000</td>\n",
              "      <td>0.610000</td>\n",
              "      <td>0.002222</td>\n",
              "    </tr>\n",
              "    <tr>\n",
              "      <th>25%</th>\n",
              "      <td>2017.250000</td>\n",
              "      <td>36722.250000</td>\n",
              "      <td>459.500000</td>\n",
              "      <td>209.325000</td>\n",
              "      <td>19.522500</td>\n",
              "      <td>980.750000</td>\n",
              "      <td>38.770000</td>\n",
              "      <td>19.580000</td>\n",
              "      <td>40.190000</td>\n",
              "      <td>1.380000</td>\n",
              "      <td>5.997010</td>\n",
              "    </tr>\n",
              "    <tr>\n",
              "      <th>50%</th>\n",
              "      <td>4033.500000</td>\n",
              "      <td>38739.500000</td>\n",
              "      <td>505.400000</td>\n",
              "      <td>1416.900000</td>\n",
              "      <td>20.655000</td>\n",
              "      <td>984.955000</td>\n",
              "      <td>45.470000</td>\n",
              "      <td>20.690000</td>\n",
              "      <td>41.320000</td>\n",
              "      <td>2.660000</td>\n",
              "      <td>12.040000</td>\n",
              "    </tr>\n",
              "    <tr>\n",
              "      <th>75%</th>\n",
              "      <td>6049.750000</td>\n",
              "      <td>40755.750000</td>\n",
              "      <td>587.100000</td>\n",
              "      <td>4070.525000</td>\n",
              "      <td>22.077500</td>\n",
              "      <td>988.890000</td>\n",
              "      <td>53.310000</td>\n",
              "      <td>21.960000</td>\n",
              "      <td>42.690000</td>\n",
              "      <td>4.310000</td>\n",
              "      <td>18.038550</td>\n",
              "    </tr>\n",
              "    <tr>\n",
              "      <th>max</th>\n",
              "      <td>8066.000000</td>\n",
              "      <td>42772.000000</td>\n",
              "      <td>1141.000000</td>\n",
              "      <td>26224.500000</td>\n",
              "      <td>26.820000</td>\n",
              "      <td>997.240000</td>\n",
              "      <td>84.250000</td>\n",
              "      <td>26.660000</td>\n",
              "      <td>47.380000</td>\n",
              "      <td>18.510000</td>\n",
              "      <td>23.999200</td>\n",
              "    </tr>\n",
              "  </tbody>\n",
              "</table>\n",
              "</div>"
            ],
            "text/plain": [
              "                id      entry_id         eCO2         eTVOC  Temperature  \\\n",
              "count  8066.000000   8066.000000  8066.000000   8066.000000  8066.000000   \n",
              "mean   4033.500000  38740.337590   537.121535   2715.315572    20.679116   \n",
              "std    2328.597969   2326.778672   110.125333   3400.641419     2.159467   \n",
              "min       1.000000  34773.000000   406.500000      0.000000    11.650000   \n",
              "25%    2017.250000  36722.250000   459.500000    209.325000    19.522500   \n",
              "50%    4033.500000  38739.500000   505.400000   1416.900000    20.655000   \n",
              "75%    6049.750000  40755.750000   587.100000   4070.525000    22.077500   \n",
              "max    8066.000000  42772.000000  1141.000000  26224.500000    26.820000   \n",
              "\n",
              "       Air_pressure     Humidity  temperature_  Controller_temperature  \\\n",
              "count   8066.000000  8066.000000   8066.000000             8066.000000   \n",
              "mean     983.857613    46.503495     20.646332               41.298509   \n",
              "std        6.860016    11.153372      2.132563                2.167896   \n",
              "min      960.320000    21.220000     10.690000               31.340000   \n",
              "25%      980.750000    38.770000     19.580000               40.190000   \n",
              "50%      984.955000    45.470000     20.690000               41.320000   \n",
              "75%      988.890000    53.310000     21.960000               42.690000   \n",
              "max      997.240000    84.250000     26.660000               47.380000   \n",
              "\n",
              "                 G   time_float  \n",
              "count  8066.000000  8066.000000  \n",
              "mean      3.173923    12.018937  \n",
              "std       2.410242     6.943144  \n",
              "min       0.610000     0.002222  \n",
              "25%       1.380000     5.997010  \n",
              "50%       2.660000    12.040000  \n",
              "75%       4.310000    18.038550  \n",
              "max      18.510000    23.999200  "
            ]
          },
          "execution_count": 7,
          "metadata": {},
          "output_type": "execute_result"
        }
      ],
      "source": [
        "#analise dos dados\n",
        "df.describe()"
      ]
    },
    {
      "cell_type": "markdown",
      "metadata": {
        "id": "im19NkhimgF3"
      },
      "source": [
        "##### Nao vai limpeza dos dados porque estao todos preenchidos pois o banco so aceita NOT NULL"
      ]
    },
    {
      "cell_type": "code",
      "execution_count": 12,
      "metadata": {},
      "outputs": [
        {
          "data": {
            "text/plain": [
              "Timestamp('2022-04-06 00:00:00')"
            ]
          },
          "execution_count": 12,
          "metadata": {},
          "output_type": "execute_result"
        }
      ],
      "source": [
        "df['date_c'] = pd.to_datetime(df['date_creation'])\n",
        "df['date_c'].iloc[0]"
      ]
    },
    {
      "cell_type": "code",
      "execution_count": 6,
      "metadata": {},
      "outputs": [],
      "source": [
        "#tratando data para treinamento\n",
        "df['date_c'] = pd.to_datetime(df['date_creation'])\n",
        "df['date_c'] = df['date_c'].map(datetime.datetime.toordinal)"
      ]
    },
    {
      "cell_type": "code",
      "execution_count": 7,
      "metadata": {},
      "outputs": [],
      "source": [
        "del df['date_creation']\n",
        "del df['id']\n",
        "del df['entry_id']"
      ]
    },
    {
      "cell_type": "code",
      "execution_count": 10,
      "metadata": {},
      "outputs": [
        {
          "data": {
            "text/html": [
              "<div>\n",
              "<style scoped>\n",
              "    .dataframe tbody tr th:only-of-type {\n",
              "        vertical-align: middle;\n",
              "    }\n",
              "\n",
              "    .dataframe tbody tr th {\n",
              "        vertical-align: top;\n",
              "    }\n",
              "\n",
              "    .dataframe thead th {\n",
              "        text-align: right;\n",
              "    }\n",
              "</style>\n",
              "<table border=\"1\" class=\"dataframe\">\n",
              "  <thead>\n",
              "    <tr style=\"text-align: right;\">\n",
              "      <th></th>\n",
              "      <th>eCO2</th>\n",
              "      <th>eTVOC</th>\n",
              "      <th>Temperature</th>\n",
              "      <th>Air_pressure</th>\n",
              "      <th>Humidity</th>\n",
              "      <th>temperature_</th>\n",
              "      <th>Controller_temperature</th>\n",
              "      <th>G</th>\n",
              "      <th>time_float</th>\n",
              "      <th>date_c</th>\n",
              "    </tr>\n",
              "  </thead>\n",
              "  <tbody>\n",
              "    <tr>\n",
              "      <th>0</th>\n",
              "      <td>698.5</td>\n",
              "      <td>1654.5</td>\n",
              "      <td>20.85</td>\n",
              "      <td>971.0</td>\n",
              "      <td>39.94</td>\n",
              "      <td>21.06</td>\n",
              "      <td>41.9</td>\n",
              "      <td>4.36</td>\n",
              "      <td>21.0633</td>\n",
              "      <td>738251</td>\n",
              "    </tr>\n",
              "  </tbody>\n",
              "</table>\n",
              "</div>"
            ],
            "text/plain": [
              "    eCO2   eTVOC  Temperature  Air_pressure  Humidity  temperature_  \\\n",
              "0  698.5  1654.5        20.85         971.0     39.94         21.06   \n",
              "\n",
              "   Controller_temperature     G  time_float  date_c  \n",
              "0                    41.9  4.36     21.0633  738251  "
            ]
          },
          "execution_count": 10,
          "metadata": {},
          "output_type": "execute_result"
        }
      ],
      "source": [
        "df.head(1)"
      ]
    },
    {
      "cell_type": "markdown",
      "metadata": {
        "id": "UyvQddDzmgGB"
      },
      "source": [
        "### Modelagem"
      ]
    },
    {
      "cell_type": "code",
      "execution_count": 11,
      "metadata": {},
      "outputs": [
        {
          "data": {
            "text/plain": [
              "array([[1654.5,  698.5],\n",
              "       [1663.7,  608.2],\n",
              "       [ 682.9,  417.2],\n",
              "       ...,\n",
              "       [ 915.1,  610. ],\n",
              "       [ 927.5,  612.1],\n",
              "       [ 962.1,  616.8]])"
            ]
          },
          "execution_count": 11,
          "metadata": {},
          "output_type": "execute_result"
        }
      ],
      "source": [
        "import numpy as np\n",
        "np.array(df.filter(['eTVOC', 'eCO2']))"
      ]
    },
    {
      "cell_type": "code",
      "execution_count": 8,
      "metadata": {
        "id": "1-FvwZ_jmgGB"
      },
      "outputs": [],
      "source": [
        "# Separação de DADOS e LABEL\n",
        "X = df.drop(columns=['eTVOC', 'eCO2'])\n",
        "Y = df.filter(['eTVOC', 'eCO2'])"
      ]
    },
    {
      "cell_type": "code",
      "execution_count": 9,
      "metadata": {},
      "outputs": [],
      "source": [
        "from keras.models import Sequential\n",
        "from keras.layers import Dense\n",
        "from sklearn.model_selection import train_test_split"
      ]
    },
    {
      "cell_type": "code",
      "execution_count": 10,
      "metadata": {
        "id": "Mr0Df9D_mgGB"
      },
      "outputs": [],
      "source": [
        "# Dividindo dados para TREINO e TESTE\n",
        "X_train, X_test, Y_train, Y_test = train_test_split(X, Y,\n",
        "                                                    test_size = 0.2,\n",
        "                                                    random_state = 42)"
      ]
    },
    {
      "cell_type": "code",
      "execution_count": 11,
      "metadata": {
        "colab": {
          "base_uri": "https://localhost:8080/"
        },
        "id": "v4zQhgjRmgGB",
        "outputId": "e8a99b86-120c-4769-ddea-0c0cde3a54be"
      },
      "outputs": [
        {
          "name": "stderr",
          "output_type": "stream",
          "text": [
            "c:\\Users\\igorf\\AppData\\Local\\Programs\\Python\\Python37\\lib\\site-packages\\sklearn\\linear_model\\_base.py:145: FutureWarning: 'normalize' was deprecated in version 1.0 and will be removed in 1.2.\n",
            "If you wish to scale the data, use Pipeline with a StandardScaler in a preprocessing stage. To reproduce the previous behavior:\n",
            "\n",
            "from sklearn.pipeline import make_pipeline\n",
            "\n",
            "model = make_pipeline(StandardScaler(with_mean=False), LinearRegression())\n",
            "\n",
            "If you wish to pass a sample_weight parameter, you need to pass it as a fit parameter to each step of the pipeline as follows:\n",
            "\n",
            "kwargs = {s[0] + '__sample_weight': sample_weight for s in model.steps}\n",
            "model.fit(X, y, **kwargs)\n",
            "\n",
            "\n",
            "  FutureWarning,\n"
          ]
        },
        {
          "data": {
            "text/plain": [
              "LinearRegression(n_jobs=20, normalize=True, positive=True)"
            ]
          },
          "execution_count": 11,
          "metadata": {},
          "output_type": "execute_result"
        }
      ],
      "source": [
        "from sklearn.linear_model import LinearRegression\n",
        "# Treinando o modelo\n",
        "modelo = LinearRegression(n_jobs=20,positive=True, normalize=True)\n",
        "modelo.fit(X_train, Y_train)"
      ]
    },
    {
      "cell_type": "code",
      "execution_count": 12,
      "metadata": {},
      "outputs": [],
      "source": [
        "from sklearn.model_selection import train_test_split\n",
        "from sklearn.metrics import mean_squared_error, mean_absolute_error, r2_score, accuracy_score, classification_report"
      ]
    },
    {
      "cell_type": "code",
      "execution_count": 13,
      "metadata": {
        "id": "8DvfRJSHmgGD"
      },
      "outputs": [],
      "source": [
        "# Fazendo as predições\n",
        "Y_pred = modelo.predict(X_test)"
      ]
    },
    {
      "cell_type": "code",
      "execution_count": 34,
      "metadata": {},
      "outputs": [
        {
          "data": {
            "text/plain": [
              "eTVOC_pred    1187.088078\n",
              "eCO2_pred      528.917830\n",
              "Name: 742, dtype: float64"
            ]
          },
          "execution_count": 34,
          "metadata": {},
          "output_type": "execute_result"
        }
      ],
      "source": [
        "Y_pred.iloc[742]"
      ]
    },
    {
      "cell_type": "code",
      "execution_count": 14,
      "metadata": {},
      "outputs": [
        {
          "data": {
            "text/html": [
              "<div>\n",
              "<style scoped>\n",
              "    .dataframe tbody tr th:only-of-type {\n",
              "        vertical-align: middle;\n",
              "    }\n",
              "\n",
              "    .dataframe tbody tr th {\n",
              "        vertical-align: top;\n",
              "    }\n",
              "\n",
              "    .dataframe thead th {\n",
              "        text-align: right;\n",
              "    }\n",
              "</style>\n",
              "<table border=\"1\" class=\"dataframe\">\n",
              "  <thead>\n",
              "    <tr style=\"text-align: right;\">\n",
              "      <th></th>\n",
              "      <th>eTVOC</th>\n",
              "      <th>eCO2</th>\n",
              "      <th>eTVOC_pred</th>\n",
              "      <th>eCO2_pred</th>\n",
              "    </tr>\n",
              "  </thead>\n",
              "  <tbody>\n",
              "    <tr>\n",
              "      <th>742</th>\n",
              "      <td>1025.0</td>\n",
              "      <td>645.2</td>\n",
              "      <td>1187.088078</td>\n",
              "      <td>528.917830</td>\n",
              "    </tr>\n",
              "    <tr>\n",
              "      <th>1302</th>\n",
              "      <td>1445.1</td>\n",
              "      <td>424.2</td>\n",
              "      <td>5265.983476</td>\n",
              "      <td>582.637399</td>\n",
              "    </tr>\n",
              "    <tr>\n",
              "      <th>1168</th>\n",
              "      <td>2750.9</td>\n",
              "      <td>536.9</td>\n",
              "      <td>4156.583900</td>\n",
              "      <td>540.752517</td>\n",
              "    </tr>\n",
              "    <tr>\n",
              "      <th>429</th>\n",
              "      <td>64.8</td>\n",
              "      <td>459.9</td>\n",
              "      <td>2402.484420</td>\n",
              "      <td>520.814518</td>\n",
              "    </tr>\n",
              "    <tr>\n",
              "      <th>233</th>\n",
              "      <td>579.7</td>\n",
              "      <td>952.3</td>\n",
              "      <td>3430.097411</td>\n",
              "      <td>552.170821</td>\n",
              "    </tr>\n",
              "    <tr>\n",
              "      <th>...</th>\n",
              "      <td>...</td>\n",
              "      <td>...</td>\n",
              "      <td>...</td>\n",
              "      <td>...</td>\n",
              "    </tr>\n",
              "    <tr>\n",
              "      <th>1608</th>\n",
              "      <td>9.7</td>\n",
              "      <td>524.5</td>\n",
              "      <td>1323.093200</td>\n",
              "      <td>515.795591</td>\n",
              "    </tr>\n",
              "    <tr>\n",
              "      <th>418</th>\n",
              "      <td>1917.5</td>\n",
              "      <td>719.6</td>\n",
              "      <td>5525.881296</td>\n",
              "      <td>602.744180</td>\n",
              "    </tr>\n",
              "    <tr>\n",
              "      <th>293</th>\n",
              "      <td>896.6</td>\n",
              "      <td>637.1</td>\n",
              "      <td>248.232031</td>\n",
              "      <td>503.713456</td>\n",
              "    </tr>\n",
              "    <tr>\n",
              "      <th>1149</th>\n",
              "      <td>1708.2</td>\n",
              "      <td>489.0</td>\n",
              "      <td>2089.199458</td>\n",
              "      <td>508.910759</td>\n",
              "    </tr>\n",
              "    <tr>\n",
              "      <th>373</th>\n",
              "      <td>375.5</td>\n",
              "      <td>607.8</td>\n",
              "      <td>2122.868278</td>\n",
              "      <td>522.918861</td>\n",
              "    </tr>\n",
              "  </tbody>\n",
              "</table>\n",
              "<p>335 rows × 4 columns</p>\n",
              "</div>"
            ],
            "text/plain": [
              "       eTVOC   eCO2   eTVOC_pred   eCO2_pred\n",
              "742   1025.0  645.2  1187.088078  528.917830\n",
              "1302  1445.1  424.2  5265.983476  582.637399\n",
              "1168  2750.9  536.9  4156.583900  540.752517\n",
              "429     64.8  459.9  2402.484420  520.814518\n",
              "233    579.7  952.3  3430.097411  552.170821\n",
              "...      ...    ...          ...         ...\n",
              "1608     9.7  524.5  1323.093200  515.795591\n",
              "418   1917.5  719.6  5525.881296  602.744180\n",
              "293    896.6  637.1   248.232031  503.713456\n",
              "1149  1708.2  489.0  2089.199458  508.910759\n",
              "373    375.5  607.8  2122.868278  522.918861\n",
              "\n",
              "[335 rows x 4 columns]"
            ]
          },
          "execution_count": 14,
          "metadata": {},
          "output_type": "execute_result"
        }
      ],
      "source": [
        "Y_pred = pd.DataFrame(Y_pred, columns=['eTVOC_pred', 'eCO2_pred'])\n",
        "frames = [Y_test,Y_pred]\n",
        "v = pd.concat(frames, axis=1, join=\"inner\")\n",
        "\n",
        "v"
      ]
    },
    {
      "cell_type": "markdown",
      "metadata": {},
      "source": [
        "### Avaliação"
      ]
    },
    {
      "cell_type": "code",
      "execution_count": 15,
      "metadata": {},
      "outputs": [
        {
          "name": "stdout",
          "output_type": "stream",
          "text": [
            "eTVOC:  3941413.104071415\n",
            "eCO2:  10593.609063585385\n"
          ]
        }
      ],
      "source": [
        "# Erro quadrático médio\n",
        "print('eTVOC: ', mean_squared_error(Y_test['eTVOC'], Y_pred['eTVOC_pred']))\n",
        "print('eCO2: ', mean_squared_error(Y_test['eCO2'], Y_pred['eCO2_pred']))"
      ]
    },
    {
      "cell_type": "code",
      "execution_count": 16,
      "metadata": {},
      "outputs": [
        {
          "name": "stdout",
          "output_type": "stream",
          "text": [
            "eTVOC:  1420.7318482937687\n",
            "eCO2:  76.65526232137644\n"
          ]
        }
      ],
      "source": [
        "# Erro absoluto médio\n",
        "print('eTVOC: ', mean_absolute_error(Y_test['eTVOC'], Y_pred['eTVOC_pred']))\n",
        "print('eCO2: ', mean_absolute_error(Y_test['eCO2'], Y_pred['eCO2_pred']))"
      ]
    },
    {
      "cell_type": "code",
      "execution_count": 17,
      "metadata": {},
      "outputs": [
        {
          "name": "stdout",
          "output_type": "stream",
          "text": [
            "eTVOC:  0.6591299943827983\n",
            "eCO2:  0.18026769735499237\n"
          ]
        }
      ],
      "source": [
        "# R²\n",
        "print('eTVOC: ', r2_score(Y_test['eTVOC'], Y_pred['eTVOC_pred']))\n",
        "print('eCO2: ', r2_score(Y_test['eCO2'], Y_pred['eCO2_pred']))"
      ]
    },
    {
      "cell_type": "code",
      "execution_count": 4,
      "metadata": {},
      "outputs": [],
      "source": [
        "from sklearn import model_selection\n",
        "import pickle"
      ]
    },
    {
      "cell_type": "code",
      "execution_count": 2,
      "metadata": {},
      "outputs": [],
      "source": [
        "# salvando model\n",
        "filename = 'finalized_model.sav'\n",
        "#pickle.dump(modelo, open(filename, 'wb'))"
      ]
    },
    {
      "cell_type": "code",
      "execution_count": 5,
      "metadata": {},
      "outputs": [],
      "source": [
        "with open(filename , 'rb') as f:\n",
        "    loaded_model = pickle.load(f)"
      ]
    },
    {
      "cell_type": "code",
      "execution_count": 26,
      "metadata": {},
      "outputs": [],
      "source": [
        "Y_pred = loaded_model.predict(X_test)\n",
        "Y_pred = pd.DataFrame(Y_pred, columns=['eTVOC_pred', 'eCO2_pred'])"
      ]
    },
    {
      "cell_type": "code",
      "execution_count": 27,
      "metadata": {},
      "outputs": [
        {
          "name": "stdout",
          "output_type": "stream",
          "text": [
            "eTVOC:  0.6591299943827983\n",
            "eCO2:  0.18026769735499237\n"
          ]
        }
      ],
      "source": [
        "# R²\n",
        "print('eTVOC: ', r2_score(Y_test['eTVOC'], Y_pred['eTVOC_pred']))\n",
        "print('eCO2: ', r2_score(Y_test['eCO2'], Y_pred['eCO2_pred']))"
      ]
    }
  ],
  "metadata": {
    "colab": {
      "collapsed_sections": [],
      "name": "Aula06_RegressãoLinear - Parte 1 ---AULA (1).ipynb",
      "provenance": [],
      "toc_visible": true
    },
    "kernelspec": {
      "display_name": "Python 3.7.9 64-bit",
      "language": "python",
      "name": "python3"
    },
    "language_info": {
      "codemirror_mode": {
        "name": "ipython",
        "version": 3
      },
      "file_extension": ".py",
      "mimetype": "text/x-python",
      "name": "python",
      "nbconvert_exporter": "python",
      "pygments_lexer": "ipython3",
      "version": "3.7.9"
    },
    "vscode": {
      "interpreter": {
        "hash": "919c5718bd146d6cefb8ae0c94305288313eebec698b3a6cfb9e5d575b6138eb"
      }
    }
  },
  "nbformat": 4,
  "nbformat_minor": 0
}
