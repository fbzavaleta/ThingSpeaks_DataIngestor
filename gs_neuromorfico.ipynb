{
 "cells": [
  {
   "cell_type": "code",
   "execution_count": 1,
   "id": "8ad7051c",
   "metadata": {},
   "outputs": [
    {
     "name": "stdout",
     "output_type": "stream",
     "text": [
      "Requirement already satisfied: mysql-connector-python in c:\\users\\grodrigues\\appdata\\local\\programs\\python\\python39\\lib\\site-packages (8.0.29)\n",
      "Requirement already satisfied: protobuf>=3.0.0 in c:\\users\\grodrigues\\appdata\\local\\programs\\python\\python39\\lib\\site-packages (from mysql-connector-python) (4.21.1)\n"
     ]
    },
    {
     "name": "stderr",
     "output_type": "stream",
     "text": [
      "WARNING: You are using pip version 21.1.2; however, version 22.1.2 is available.\n",
      "You should consider upgrading via the 'c:\\users\\grodrigues\\appdata\\local\\programs\\python\\python39\\python.exe -m pip install --upgrade pip' command.\n"
     ]
    }
   ],
   "source": [
    "!pip install mysql-connector-python"
   ]
  },
  {
   "cell_type": "code",
   "execution_count": 4,
   "id": "fa9d91fe",
   "metadata": {},
   "outputs": [],
   "source": [
    "import pandas as pd\n",
    "import mysql.connector\n",
    "\n",
    "mydb = mysql.connector.connect(\n",
    "    host=\"192.168.0.38\",\n",
    "    user=\"root\",\n",
    "    password=\"root\",\n",
    "    database=\"data_sensors\"  \n",
    ")\n",
    "\n",
    "mycursor = mydb.cursor()\n",
    "\n",
    "mycursor.execute(\"SELECT * from air_quality_sensors\")\n",
    "\n",
    "#mylist = ['id','entry_id','eCO2', 'eTVOC','Temperature','Air_pressure','Humidity','temperature_','Controller_temperature','G','date_creation','time_float']\n",
    "#df = pd.DataFrame(columns = headers)\n",
    "\n",
    "#mylist=list(mylist.columns.values)\n",
    "\n",
    "for x in mycursor:\n",
    "    df = list(x)\n",
    "    mylist.append(df)\n",
    "\n"
   ]
  },
  {
   "cell_type": "code",
   "execution_count": null,
   "id": "b60b6790",
   "metadata": {},
   "outputs": [],
   "source": []
  }
 ],
 "metadata": {
  "kernelspec": {
   "display_name": "Python 3 (ipykernel)",
   "language": "python",
   "name": "python3"
  },
  "language_info": {
   "codemirror_mode": {
    "name": "ipython",
    "version": 3
   },
   "file_extension": ".py",
   "mimetype": "text/x-python",
   "name": "python",
   "nbconvert_exporter": "python",
   "pygments_lexer": "ipython3",
   "version": "3.9.5"
  }
 },
 "nbformat": 4,
 "nbformat_minor": 5
}
