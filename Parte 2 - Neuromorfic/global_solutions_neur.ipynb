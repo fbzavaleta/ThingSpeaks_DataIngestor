{
 "cells": [
  {
   "cell_type": "code",
   "execution_count": 1,
   "id": "097bf126",
   "metadata": {},
   "outputs": [],
   "source": [
    "# Global Solutions\n",
    "\n",
    "# Integrantes:\n",
    "\n",
    "# Fabio Lanfranchi\n",
    "# Genival Jr\n",
    "# Lucas Alves"
   ]
  },
  {
   "cell_type": "code",
   "execution_count": 2,
   "id": "9dd77934",
   "metadata": {},
   "outputs": [],
   "source": [
    "# Criei um notebook e realize a simulação de uma SNN, com uma população de 5 neurônios, utilizando o modelo IF_curr_exp()\n",
    "# e uma projeção do tipo OneToOneConnector. Considere o valor target da membrana potencial de 5 nA e um tempo de\n",
    "# simulação de 10 ms. Realize a simulação e criei uma visualização dos spikes e voltagens gerados.\n",
    "\n",
    "import pyNN.spiNNaker as sim\n",
    "import pyNN.utility.plotting as plot\n",
    "import matplotlib.pyplot as plt"
   ]
  },
  {
   "cell_type": "code",
   "execution_count": 3,
   "id": "163f2c5e",
   "metadata": {},
   "outputs": [
    {
     "name": "stderr",
     "output_type": "stream",
     "text": [
      "2022-06-10 21:13:43 INFO: Read cfg files: /home/bbpnrsoa/sPyNNaker/lib/python3.8/site-packages/spinn_front_end_common/interface/spinnaker.cfg, /home/bbpnrsoa/sPyNNaker/lib/python3.8/site-packages/spynnaker/pyNN/spynnaker.cfg, /home/bbpnrsoa/.spynnaker.cfg\n",
      "2022-06-10 21:13:43 INFO: Will search these locations for binaries: /home/bbpnrsoa/sPyNNaker/lib/python3.8/site-packages/spinn_front_end_common/common_model_binaries : /home/bbpnrsoa/sPyNNaker/lib/python3.8/site-packages/spynnaker/pyNN/model_binaries\n",
      "2022-06-10 21:13:43 WARNING: /home/bbpnrsoa/reports has 15 old reports that have not been closed\n",
      "2022-06-10 21:13:43 INFO: Setting time scale factor to 1.\n",
      "2022-06-10 21:13:43 INFO: Setting machine time step to 1000 micro-seconds.\n"
     ]
    },
    {
     "name": "stdout",
     "output_type": "stream",
     "text": [
      "['/home/bbpnrsoa/sPyNNaker/lib/python3.8/site-packages/spinn_front_end_common/interface/spinnaker.cfg', '/home/bbpnrsoa/sPyNNaker/lib/python3.8/site-packages/spynnaker/pyNN/spynnaker.cfg', '/home/bbpnrsoa/.spynnaker.cfg']\n"
     ]
    }
   ],
   "source": [
    "# Setup the Simulator: estamos alocando max 100 neuronios por cada core do processador, o tempo entre spikes = 1.0ms\n",
    "sim.setup(timestep=1.0)\n",
    "sim.set_number_of_neurons_per_core(sim.IF_curr_exp, 100)"
   ]
  },
  {
   "cell_type": "code",
   "execution_count": 4,
   "id": "1b6c85e1",
   "metadata": {},
   "outputs": [],
   "source": [
    "# Create the neural populations neur = 5\n",
    "pop_1 = sim.Population(5, sim.IF_curr_exp(), label=\"pop_1\")\n",
    "input = sim.Population(5, sim.SpikeSourceArray(spike_times=[0]), label=\"input\")"
   ]
  },
  {
   "cell_type": "code",
   "execution_count": 5,
   "id": "21d66daf",
   "metadata": {},
   "outputs": [],
   "source": [
    "input_proj = sim.Projection(input, pop_1, sim.OneToOneConnector(),\n",
    "synapse_type=sim.StaticSynapse(weight=5, delay=1))\n"
   ]
  },
  {
   "cell_type": "code",
   "execution_count": 6,
   "id": "a3d4c333",
   "metadata": {},
   "outputs": [],
   "source": [
    "# Setup data recording: vamos a grabar os spikes na menbrana\n",
    "pop_1.record([\"spikes\", \"v\"])\n"
   ]
  },
  {
   "cell_type": "code",
   "execution_count": 7,
   "id": "1df79e46",
   "metadata": {},
   "outputs": [
    {
     "name": "stderr",
     "output_type": "stream",
     "text": [
      "2022-06-10 21:13:43 INFO: Starting execution process\n",
      "2022-06-10 21:13:43 INFO: Simulating for 10 1.0ms timesteps using a hardware timestep of 1000us\n",
      "Adding Splitter selectors where appropriate\n",
      "|0%                          50%                         100%|\n",
      " ============================================================\n",
      "2022-06-10 21:13:43 INFO: Time 0:00:00.008505 taken by SpynnakerSplitterSelector\n",
      "Adding delay extensions as required\n",
      "|0%                          50%                         100%|\n",
      " ============================================================\n",
      "2022-06-10 21:13:43 INFO: Time 0:00:00.008017 taken by DelaySupportAdder\n",
      "2022-06-10 21:13:46 INFO: Time 0:00:03.005296 taken by SpallocMaxMachineGenerator\n",
      "Preallocating resources for Extra Monitor support vertices\n",
      "|0%                          50%                         100%|\n",
      " ============================================================\n",
      "2022-06-10 21:13:55 INFO: Time 0:00:08.968073 taken by PreAllocateResourcesForExtraMonitorSupport\n",
      "Partitioning graph vertices\n",
      "|0%                          50%                         100%|\n",
      " ============================================================\n",
      "Partitioning graph edges\n",
      "|0%                          50%                         100%|\n",
      " ============================================================\n",
      "2022-06-10 21:14:00 INFO: Time 0:00:05.118018 taken by SpYNNakerSplitterPartitioner\n",
      "Created spalloc job 6467165\n",
      "2022-06-10 21:14:00 INFO: Created spalloc job 6467165\n",
      "Waiting for board power commands to complete.\n",
      "2022-06-10 21:14:00 INFO: Waiting for board power commands to complete.\n",
      "2022-06-10 21:14:05 INFO: Time 0:00:05.049028 taken by SpallocAllocator\n",
      "2022-06-10 21:14:05 INFO: Creating transceiver for 10.11.208.161\n",
      "2022-06-10 21:14:05 INFO: Working out if machine is booted\n",
      "2022-06-10 21:14:09 INFO: Attempting to boot machine\n",
      "2022-06-10 21:14:15 INFO: Found board with version [Version: SC&MP 3.4.1 at SpiNNaker:0:0:0 (built Thu Feb 11 15:36:44 2021)]\n",
      "2022-06-10 21:14:15 INFO: Machine communication successful\n",
      "2022-06-10 21:14:15 INFO: Detected a machine on IP address 10.11.208.161 which has 839 cores and 114.0 links\n",
      "2022-06-10 21:14:15 INFO: Time 0:00:09.934464 taken by MachineGenerator\n",
      "Generating partitioner report\n",
      "|0%                          50%                         100%|\n",
      " ============================================================\n",
      "2022-06-10 21:14:15 INFO: Time 0:00:00.010645 taken by PartitionerReport\n",
      "2022-06-10 21:14:15 INFO: Time 0:00:00.000404 taken by NetworkSpecificationReport\n",
      "Allocating virtual identifiers\n",
      "|0%                          50%                         100%|\n",
      " ============================================================\n",
      "2022-06-10 21:14:15 INFO: Time 0:00:00.028347 taken by MallocBasedChipIDAllocator\n",
      "Inserting extra monitors into graphs\n",
      "|0%                          50%                         100%|\n",
      " ============================================================\n",
      "2022-06-10 21:14:15 INFO: Time 0:00:00.038325 taken by InsertExtraMonitorVerticesToGraphs\n",
      "Writing the board chip report\n",
      "|0%                          50%                         100%|\n",
      " ============================================================\n",
      "2022-06-10 21:14:15 INFO: Time 0:00:00.008394 taken by BoardChipReport\n",
      "Getting number of keys required by each edge using application graph\n",
      "|0%                          50%                         100%|\n",
      " ============================================================\n",
      "2022-06-10 21:14:15 INFO: Time 0:00:00.029571 taken by EdgeToNKeysMapper\n",
      "2022-06-10 21:14:15 INFO: The time scale factor could be reduced to 0\n",
      "2022-06-10 21:14:15 INFO: Time 0:00:00.000948 taken by LocalTDMABuilder\n",
      "Placing graph vertices via spreading over an entire machine\n",
      "|0%                          50%                         100%|\n",
      " ============================================================\n",
      "2022-06-10 21:14:15 INFO: Time 0:00:00.009837 taken by SpreaderPlacer\n",
      "Inserting edges between vertices which require FR speed up functionality.\n",
      "|0%                          50%                         100%|\n",
      " ==============================2022-06-10 21:14:15 INFO: Time 0:00:00.030480 taken by InsertEdgesToExtraMonitorFunctionality\n",
      "Generating routing tables for data in system processes\n",
      "|0%                          50%                         100%|\n",
      " ============================================================\n",
      "2022-06-10 21:14:15 INFO: Time 0:00:00.009872 taken by SystemMulticastRoutingGenerator\n",
      "Generating fixed router routes\n",
      "|0%                          50%                         100%|\n",
      " ============================================================\n",
      "2022-06-10 21:14:15 INFO: Time 0:00:00.008700 taken by FixedRouteRouter\n",
      "Generating placement report\n",
      "|0%                          50%                         100%|\n",
      " ============================================================\n",
      "Generating placement by core report\n",
      "|0%                          50%                         100%|\n",
      " ============================================================\n",
      "2022-06-10 21:14:15 INFO: Time 0:00:00.060064 taken by PlacerReportWithApplicationGraph\n",
      "Routing\n",
      "|0%                          50%                         100%|\n",
      " ============================================================\n",
      "\n",
      "2022-06-10 21:14:15 INFO: Time 0:00:00.031055 taken by NerRouteTrafficAware\n",
      "Discovering tags\n",
      "|0%                          50%                         100%|\n",
      " ============================================================\n",
      "Allocating tags\n",
      "|0%                          50%                         100%|\n",
      " ============================================================\n",
      "2022-06-10 21:14:15 INFO: Time 0:00:00.039895 taken by BasicTagAllocator\n",
      "Reporting Tags\n",
      "|0%                          50%                         100%|\n",
      " ============================================================\n",
      "2022-06-10 21:14:15 INFO: Time 0:00:00.010197 taken by TagReport\n",
      "Getting constraints for machine graph\n",
      "|0%                          50%                         100%|\n",
      " ============================================================\n",
      "2022-06-10 21:14:15 INFO: Time 0:00:00.030248 taken by ProcessPartitionConstraints\n",
      "Calculating zones\n",
      "|0%                          50%                         100%|\n",
      " ============================================================\n",
      "Allocating routing keys\n",
      "|0%                          50%                         100%|\n",
      " ============================================================\n",
      "2022-06-10 21:14:15 INFO: Time 0:00:00.019244 taken by ZonedRoutingInfoAllocator\n",
      "Generating Routing info report\n",
      "|0%                          50%                         100%|\n",
      " ============================================================\n",
      "2022-06-10 21:14:15 INFO: Time 0:00:00.009395 taken by routingInfoReports\n",
      "Generating routing tables\n",
      "|0%                          50%                         100%|\n",
      " ============================================================\n",
      "2022-06-10 21:14:15 INFO: Time 0:00:00.024413 taken by BasicRoutingTableGenerator\n",
      "2022-06-10 21:14:15 INFO: Time 0:00:00.000365 taken by RouterCollisionPotentialReport\n",
      "Finding executable start types\n",
      "|0%                          50%                         100%|\n",
      " ============================================================\n",
      "2022-06-10 21:14:15 INFO: Time 0:00:00.033606 taken by LocateExecutableStartType\n",
      "Initialising buffers\n",
      "|0%                          50%                         100%|\n",
      " ============================================================\n",
      "2022-06-10 21:14:15 INFO: Time 0:00:00.037369 taken by BufferManagerCreator\n",
      "Allocating SDRAM for SDRAM outgoing egde partitions\n",
      "|0%                          50%                         100%|\n",
      " ============================================================\n",
      "2022-06-10 21:14:15 INFO: Time 0:00:00.030691 taken by SDRAMOutgoingPartitionAllocator\n",
      "Generating data specifications\n",
      "|0%                          50%                         100%|\n",
      " ============================================================\n",
      "2022-06-10 21:14:16 INFO: Time 0:00:00.069283 taken by SpynnakerDataSpecificationWriter\n",
      "Preparing Routing Tables\n",
      "|0%                          50%                         100%|\n",
      " ============================================================\n",
      "2022-06-10 21:14:16 INFO: Time 0:00:00.011971 taken by RoutingSetup\n",
      "Finding binaries\n",
      "|0%                          50%                         100%|\n",
      " ============================================================\n",
      "2022-06-10 21:14:16 INFO: Time 0:00:00.032621 taken by GraphBinaryGatherer\n",
      "Running pair routing table compression on chip\n",
      "|0%                          50%                         100%|\n",
      " ============================================================\n",
      "\n",
      "2022-06-10 21:14:19 INFO: Time 0:00:03.410488 taken by PairOnChipRouterCompression\n",
      "Generating Router table report\n",
      "|0%                          50%                         100%|\n",
      " ============================================================\n",
      "2022-06-10 21:14:19 INFO: Time 0:00:00.007823 taken by unCompressedRoutingTableReports\n",
      "loading fixed routes\n",
      "|0%                          50%                         100%|\n",
      " ============================================================\n",
      "2022-06-10 21:14:19 INFO: Time 0:00:00.040682 taken by LoadFixedRoutes\n",
      "Executing data specifications and loading data for system vertices using Java\n",
      "|0%                          50%                         100%|\n",
      " ============================================================\n",
      "2022-06-10 21:14:20 INFO: Time 0:00:01.150229 taken by HostExecuteSystemDataSpecification\n",
      "Loading system executables onto the machine\n",
      "|0%                          50%                         100%|\n",
      " ============================================================\n",
      "2022-06-10 21:14:26 INFO: Time 0:00:05.753419 taken by LoadSystemExecutableImages\n",
      "2022-06-10 21:14:26 INFO: Time 0:00:00.001590 taken by TagsFromMachineReport\n",
      "Clearing tags\n",
      "|0%                          50%                         100%|\n",
      " ============================================================\n",
      "Loading Tags\n",
      "|0%                          50%                         100%|\n",
      " ============================================================\n",
      "2022-06-10 21:14:26 INFO: Time 0:00:00.018242 taken by TagsLoader\n",
      "Executing data specifications and loading data for application vertices using Java\n",
      "|0%                          50%                         100%|\n",
      " ============================================================\n",
      "2022-06-10 21:14:27 INFO: Time 0:00:01.021415 taken by HostExecuteApplicationDataSpecification\n",
      "Preparing to Expand Synapses\n",
      "|0%                          50%                         100%|\n",
      " ============================================================\n",
      "Expanding Synapses\n",
      "|0%                          50%                         100%|\n",
      " ============================================================\n",
      "\n",
      "\n",
      "2022-06-10 21:14:28 INFO: Time 0:00:00.551381 taken by SynapseExpander\n",
      "Running bitfield generation on chip\n",
      "|0%                          50%                         100%|\n",
      " ============================================================\n",
      "\n",
      "\n",
      "2022-06-10 21:14:31 INFO: Time 0:00:03.212471 taken by OnChipBitFieldGenerator\n",
      "Finalising Retrieved Connections\n",
      "|0%                          50%                         100%|\n",
      " ============================================================\n",
      "2022-06-10 21:14:31 INFO: Time 0:00:00.025661 taken by FinishConnectionHolders\n",
      "Reading Routing Tables from Machine\n",
      "|0%                          50%                         100%|\n",
      " ============================================================\n",
      "2022-06-10 21:14:31 INFO: Time 0:00:00.022373 taken by ReadRoutingTablesFromMachine\n",
      "Generating compressed router table report\n",
      "|0%                          50%                         100%|\n",
      " ============================================================\n",
      "2022-06-10 21:14:31 INFO: Time 0:00:00.007971 taken by compressedRoutingTableReports\n",
      "Generating comparison of router table report\n",
      "|0%                          50%                         100%|\n",
      " ============================================================\n",
      "2022-06-10 21:14:31 INFO: Time 0:00:00.007801 taken by comparisonOfRoutingTablesReport\n",
      "Generating Routing summary report\n",
      "|0%                          50%                         100%|\n",
      " ============================================================\n",
      "2022-06-10 21:14:31 INFO: Time 0:00:00.025002 taken by CompressedRouterSummaryReport\n",
      "Reading Routing Tables from Machine\n",
      "|0%                          50%                         100%|\n",
      " ============================================================\n",
      "2022-06-10 21:14:31 INFO: Time 0:00:00.007739 taken by RoutingTableFromMachineReport\n",
      "Writing fixed route report\n",
      "|0%                          50%                         100%|\n",
      " ============================================================\n",
      "2022-06-10 21:14:31 INFO: Time 0:00:00.045357 taken by FixedRouteFromMachineReport\n",
      "Loading executables onto the machine\n",
      "|0%                          50%                         100%|\n",
      " ============================================================\n",
      "2022-06-10 21:14:38 INFO: Time 0:00:06.798479 taken by LoadApplicationExecutableImages\n",
      "2022-06-10 21:14:38 INFO: Running for 1 steps for a total of 10.0ms\n",
      "2022-06-10 21:14:38 INFO: Run 1 of 1\n",
      "Generating SDRAM usage report\n",
      "|0%                          50%                         100%|\n",
      " ============================================================\n",
      "2022-06-10 21:14:38 INFO: Time 0:00:00.062360 taken by SdramUsageReportPerChip\n",
      "2022-06-10 21:14:38 INFO: creating live event connection database in /home/bbpnrsoa/reports/2022-06-10-21-13-43-151510/run_1/input_output_database.db\n",
      "Creating graph description database\n",
      "|0%                          50%                         100%|\n",
      " ============================================================\n",
      "2022-06-10 21:14:38 INFO: Time 0:00:00.046874 taken by DatabaseInterface\n",
      "2022-06-10 21:14:38 INFO: ** Notifying external sources that the database is ready for reading **\n",
      "2022-06-10 21:14:38 INFO: Time 0:00:00.000813 taken by CreateNotificationProtocol\n",
      "Getting provenance data from machine graph\n",
      "|0%                          50%                         100%|\n",
      " ============================================================\n",
      "Getting provenance data from application graph\n",
      "|0%                          50%                         100%|\n",
      " ============================================================\n",
      "2022-06-10 21:14:38 INFO: Time 0:00:00.071964 taken by GraphProvenanceGatherer\n",
      "Waiting for cores to be either in PAUSED or READY state\n",
      "|0%                          50%                         100%|\n",
      " ============================================================\n",
      "Updating run time\n",
      "|0%                          50%                         100%|\n",
      " ============================================================\n",
      "2022-06-10 21:14:38 INFO: Time 0:00:00.038577 taken by ChipRuntimeUpdater\n",
      "2022-06-10 21:14:38 INFO: *** Running simulation... *** \n",
      "Loading buffers\n",
      "|0%                          50%                         100%|\n",
      " ============================================================\n",
      "2022-06-10 21:14:38 INFO: ** Awaiting for a response from an external source to state its ready for the simulation to start **\n",
      "2022-06-10 21:14:38 INFO: ** Sending start / resume message to external sources to state the simulation has started or resumed. **\n",
      "2022-06-10 21:14:38 INFO: ** Awaiting for a response from an external source to state its ready for the simulation to start **\n",
      "2022-06-10 21:14:38 INFO: Application started; waiting 0.11s for it to stop\n",
      "2022-06-10 21:14:38 INFO: ** Sending pause / stop message to external sources to state the simulation has been paused or stopped. **\n",
      "2022-06-10 21:14:38 INFO: Time 0:00:00.210312 taken by ApplicationRunner\n",
      "Extracting IOBUF from the machine\n",
      "|0%                          50%                         100%|\n",
      " ============================================================\n",
      "2022-06-10 21:14:38 INFO: Time 0:00:00.038800 taken by ChipIOBufExtractor\n",
      "clearing IOBUF from the machine\n",
      "|0%                          50%                         100%|\n",
      " ============================================================\n",
      "2022-06-10 21:14:38 INFO: Time 0:00:00.009104 taken by ChipIOBufClearer\n",
      "Extracting buffers from the last run\n",
      "|0%                          50%                         100%|\n",
      " ============================================================\n",
      "\n",
      "2022-06-10 21:14:39 INFO: Time 0:00:00.974928 taken by BufferExtractor\n",
      "2022-06-10 21:14:39 INFO: Time 0:00:00.000138 taken by FinaliseTimingData\n",
      "Getting provenance data\n",
      "|0%                          50%                         100%|\n",
      " ============================================================\n",
      "2022-06-10 21:14:39 INFO: Time 0:00:00.034838 taken by PlacementsProvenanceGatherer\n",
      "2022-06-10 21:14:39 INFO: Time 0:00:00.000616 taken by RedundantPacketCountReport\n",
      "Getting Router Provenance\n",
      "|0%                          50%                         100%|\n",
      " ============================================================\n",
      "2022-06-10 21:14:39 INFO: Time 0:00:00.046376 taken by RouterProvenanceGatherer\n",
      "Getting profile data\n",
      "|0%                          50%                         100%|\n",
      " ============================================================\n",
      "2022-06-10 21:14:39 INFO: Time 0:00:00.031651 taken by ProfileDataGatherer\n"
     ]
    },
    {
     "data": {
      "text/plain": [
       "10.0"
      ]
     },
     "execution_count": 7,
     "metadata": {},
     "output_type": "execute_result"
    }
   ],
   "source": [
    "# Run the simulation\n",
    "simtime = 10 #spikes na menbrana potencial\n",
    "sim.run(simtime)"
   ]
  },
  {
   "cell_type": "code",
   "execution_count": 8,
   "id": "1c26464a",
   "metadata": {},
   "outputs": [
    {
     "name": "stderr",
     "output_type": "stream",
     "text": [
      "Getting spikes for pop_1\n",
      "|0%                          50%                         100%|\n",
      " ============================================================\n",
      "Getting v for pop_1\n",
      "|0%                          50%                         100%|\n",
      " ============================================================"
     ]
    },
    {
     "name": "stdout",
     "output_type": "stream",
     "text": [
      "[<SpikeTrain(array([7.]) * ms, [0.0 ms, 10.0 ms])>, <SpikeTrain(array([7.]) * ms, [0.0 ms, 10.0 ms])>, <SpikeTrain(array([7.]) * ms, [0.0 ms, 10.0 ms])>, <SpikeTrain(array([7.]) * ms, [0.0 ms, 10.0 ms])>, <SpikeTrain(array([7.]) * ms, [0.0 ms, 10.0 ms])>]\n",
      "[[-65.         -65.         -65.         -65.         -65.        ]\n",
      " [-65.         -65.         -65.         -65.         -65.        ]\n",
      " [-60.58001709 -60.58001709 -60.58001709 -60.58001709 -60.58001709]\n",
      " [-57.17681885 -57.17681885 -57.17681885 -57.17681885 -57.17681885]\n",
      " [-54.59555054 -54.59555054 -54.59555054 -54.59555054 -54.59555054]\n",
      " [-52.67724609 -52.67724609 -52.67724609 -52.67724609 -52.67724609]\n",
      " [-51.29220581 -51.29220581 -51.29220581 -51.29220581 -51.29220581]\n",
      " [-50.33474731 -50.33474731 -50.33474731 -50.33474731 -50.33474731]\n",
      " [-65.         -65.         -65.         -65.         -65.        ]\n",
      " [-65.         -65.         -65.         -65.         -65.        ]] mV\n"
     ]
    },
    {
     "name": "stderr",
     "output_type": "stream",
     "text": [
      "\n"
     ]
    }
   ],
   "source": [
    "# Retrieve and process the recorded data\n",
    "neo = pop_1.get_data(variables=[\"spikes\", \"v\"])#obtenemos os dados dos spikes trains\n",
    "spikes = neo.segments[0].spiketrains\n",
    "print(spikes)\n",
    "v = neo.segments[0].filter(name='v')[0]\n",
    "print(v)\n",
    "sim.end()"
   ]
  },
  {
   "cell_type": "code",
   "execution_count": 9,
   "id": "1cc91712",
   "metadata": {},
   "outputs": [
    {
     "data": {
      "text/plain": [
       "<pyNN.utility.plotting.Figure at 0x7f485cb203d0>"
      ]
     },
     "execution_count": 9,
     "metadata": {},
     "output_type": "execute_result"
    },
    {
     "data": {
      "image/png": "[encoded data removed]",
      "text/plain": [
       "<Figure size 432x374.4 with 2 Axes>"
      ]
     },
     "metadata": {
      "needs_background": "light"
     },
     "output_type": "display_data"
    }
   ],
   "source": [
    "%matplotlib inline\n",
    "plot.Figure(\n",
    "    # plot voltage for first ([0]) neuron\n",
    "    plot.Panel(v, ylabel=\"Membrane potential (mV)\",\n",
    "               data_labels=[pop_1.label], yticks=True, xlim=(0, simtime)),\n",
    "    # plot spikes (or in this case spike)\n",
    "    plot.Panel(spikes, yticks=True, markersize=5, xlim=(0, simtime)),\n",
    "    title=\"Plotando spikes na menbrana potencial\",\n",
    "    annotations=\"Simulated with {}\".format(sim.name())\n",
    ")"
   ]
  },
  {
   "cell_type": "code",
   "execution_count": 10,
   "id": "bd75091d",
   "metadata": {},
   "outputs": [],
   "source": [
    "# Desenvolva um notebook utilizando source spikes do tipo external_devices inputs para a simulação de uma SNN com uma\n",
    "# população de 5 neurônios. Considere uma população receptora do tipo IF_curr_exp() e uma projeção OneToOneConnector.\n",
    "# A membrana potencial deverá ter um valor target de 5nA. Execute a simulação por 1000 segundos e criei uma visualização\n",
    "# dos spikes e voltagens gerados.\n",
    "\n",
    "\n",
    "from time import sleep\n",
    "\n",
    "def send_spikes(label, connection):\n",
    "    # delay para aguardar respostas\n",
    "    sleep(0.01)\n",
    "    \n",
    "    # envio do spike no primeiro neuronio\n",
    "    connection.send_spike(label, 0)\n",
    "    \n",
    "    # delay aguardar resposta, envio despikes aos neuronios restantes\n",
    "    sleep(0.1)\n",
    "    connection.send_spikes(label, range(1, 5))"
   ]
  },
  {
   "cell_type": "code",
   "execution_count": 11,
   "id": "cef306f4",
   "metadata": {},
   "outputs": [],
   "source": [
    "#Criação do rotulo do injector, dever coincidir em múltiplos lugares\n",
    "injector_label = \"injector\""
   ]
  },
  {
   "cell_type": "code",
   "execution_count": 12,
   "id": "327e2584",
   "metadata": {},
   "outputs": [
    {
     "name": "stderr",
     "output_type": "stream",
     "text": [
      "2022-06-10 21:14:40 INFO: 0.0.0.0:39318 Waiting for message to indicate that the database is ready\n"
     ]
    }
   ],
   "source": [
    "#Criação da conexão\n",
    "#Definindo port = None, permite alocar automaticamente uma porta\n",
    "connection = sim.external_devices.SpynnakerLiveSpikesConnection(\n",
    "    local_port=None, send_labels=[injector_label])"
   ]
  },
  {
   "cell_type": "code",
   "execution_count": 13,
   "id": "b2e49130",
   "metadata": {},
   "outputs": [],
   "source": [
    "#Antes de iniciar a simulação realizamos um callback da conexão\n",
    "connection.add_start_resume_callback(injector_label, send_spikes)"
   ]
  },
  {
   "cell_type": "code",
   "execution_count": 14,
   "id": "809876ac",
   "metadata": {},
   "outputs": [
    {
     "name": "stderr",
     "output_type": "stream",
     "text": [
      "2022-06-10 21:14:40 INFO: Read cfg files: /home/bbpnrsoa/sPyNNaker/lib/python3.8/site-packages/spinn_front_end_common/interface/spinnaker.cfg, /home/bbpnrsoa/sPyNNaker/lib/python3.8/site-packages/spynnaker/pyNN/spynnaker.cfg, /home/bbpnrsoa/.spynnaker.cfg\n",
      "2022-06-10 21:14:40 INFO: Will search these locations for binaries: /home/bbpnrsoa/sPyNNaker/lib/python3.8/site-packages/spinn_front_end_common/common_model_binaries : /home/bbpnrsoa/sPyNNaker/lib/python3.8/site-packages/spynnaker/pyNN/model_binaries\n",
      "2022-06-10 21:14:40 WARNING: /home/bbpnrsoa/reports has 15 old reports that have not been closed\n",
      "2022-06-10 21:14:40 INFO: Setting time scale factor to 1.\n",
      "2022-06-10 21:14:40 INFO: Setting machine time step to 1000 micro-seconds.\n"
     ]
    },
    {
     "name": "stdout",
     "output_type": "stream",
     "text": [
      "['/home/bbpnrsoa/sPyNNaker/lib/python3.8/site-packages/spinn_front_end_common/interface/spinnaker.cfg', '/home/bbpnrsoa/sPyNNaker/lib/python3.8/site-packages/spynnaker/pyNN/spynnaker.cfg', '/home/bbpnrsoa/.spynnaker.cfg']\n"
     ]
    },
    {
     "data": {
      "text/plain": [
       "0"
      ]
     },
     "execution_count": 14,
     "metadata": {},
     "output_type": "execute_result"
    }
   ],
   "source": [
    "#tempo de simulação\n",
    "sim.setup(1.0)"
   ]
  },
  {
   "cell_type": "code",
   "execution_count": 15,
   "id": "4f441fad",
   "metadata": {},
   "outputs": [],
   "source": [
    "#configurando um injector population com 5 neuronios\n",
    "\n",
    "injector = sim.Population(\n",
    "    5, sim.external_devices.SpikeInjector(\n",
    "        database_notify_port_num=connection.local_port),#registrando a conexão como listener\n",
    "    # Critical: Make sure the label is used!\n",
    "    label=injector_label)"
   ]
  },
  {
   "cell_type": "code",
   "execution_count": 16,
   "id": "e3dff848",
   "metadata": {},
   "outputs": [],
   "source": [
    "#configurando uma população para receber spikes\n",
    "pop = sim.Population(5, sim.IF_curr_exp(), label=\"pop\")"
   ]
  },
  {
   "cell_type": "code",
   "execution_count": 17,
   "id": "2e312a74",
   "metadata": {},
   "outputs": [],
   "source": [
    "#vamos a graba spikes\n",
    "pop.record([\"spikes\", \"v\"])"
   ]
  },
  {
   "cell_type": "code",
   "execution_count": 18,
   "id": "af9581a7",
   "metadata": {},
   "outputs": [
    {
     "data": {
      "text/plain": [
       "projection from pre injector to post pop with connector OneToOneConnector()"
      ]
     },
     "execution_count": 18,
     "metadata": {},
     "output_type": "execute_result"
    }
   ],
   "source": [
    "#conectando as source spikes com os neuonios\n",
    "sim.Projection(injector, pop, sim.OneToOneConnector(), sim.StaticSynapse(weight=5))"
   ]
  },
  {
   "cell_type": "code",
   "execution_count": 19,
   "id": "c46afd9c",
   "metadata": {},
   "outputs": [
    {
     "name": "stderr",
     "output_type": "stream",
     "text": [
      "2022-06-10 21:14:40 INFO: Starting execution process\n",
      "2022-06-10 21:14:40 INFO: Simulating for 1000 1.0ms timesteps using a hardware timestep of 1000us\n",
      "Adding Splitter selectors where appropriate\n",
      "|0%                          50%                         100%|\n",
      " ============================================================\n",
      "2022-06-10 21:14:40 INFO: Time 0:00:00.008696 taken by SpynnakerSplitterSelector\n",
      "Adding delay extensions as required\n",
      "|0%                          50%                         100%|\n",
      " ============================================================\n",
      "2022-06-10 21:14:40 INFO: Time 0:00:00.007777 taken by DelaySupportAdder\n",
      "2022-06-10 21:14:43 INFO: Time 0:00:03.061874 taken by SpallocMaxMachineGenerator\n",
      "Preallocating resources for Extra Monitor support vertices\n",
      "|0%                          50%                         100%|\n",
      " ============================================================\n",
      "2022-06-10 21:14:52 INFO: Time 0:00:09.046100 taken by PreAllocateResourcesForExtraMonitorSupport\n",
      "Partitioning graph vertices\n",
      "|0%                          50%                         100%|\n",
      " ============================================================\n",
      "Partitioning graph edges\n",
      "|0%                          50%                         100%|\n",
      " ============================================================\n",
      "2022-06-10 21:14:57 INFO: Time 0:00:05.207156 taken by SpYNNakerSplitterPartitioner\n",
      "Created spalloc job 6467166\n",
      "2022-06-10 21:14:57 INFO: Created spalloc job 6467166\n",
      "Waiting for board power commands to complete.\n",
      "2022-06-10 21:14:57 INFO: Waiting for board power commands to complete.\n",
      "2022-06-10 21:15:02 INFO: Time 0:00:05.048306 taken by SpallocAllocator\n",
      "2022-06-10 21:15:02 INFO: Creating transceiver for 10.11.208.161\n",
      "2022-06-10 21:15:02 INFO: Working out if machine is booted\n",
      "2022-06-10 21:15:06 INFO: Attempting to boot machine\n",
      "2022-06-10 21:15:12 INFO: Found board with version [Version: SC&MP 3.4.1 at SpiNNaker:0:0:0 (built Thu Feb 11 15:36:44 2021)]\n",
      "2022-06-10 21:15:12 INFO: Machine communication successful\n",
      "2022-06-10 21:15:12 INFO: Detected a machine on IP address 10.11.208.161 which has 839 cores and 114.0 links\n",
      "2022-06-10 21:15:12 INFO: Time 0:00:09.934341 taken by MachineGenerator\n",
      "Generating partitioner report\n",
      "|0%                          50%                         100%|\n",
      " ============================================================\n",
      "2022-06-10 21:15:12 INFO: Time 0:00:00.010543 taken by PartitionerReport\n",
      "2022-06-10 21:15:12 INFO: Time 0:00:00.000356 taken by NetworkSpecificationReport\n",
      "Allocating virtual identifiers\n",
      "|0%                          50%                         100%|\n",
      " ============================================================\n",
      "2022-06-10 21:15:12 INFO: Time 0:00:00.033191 taken by MallocBasedChipIDAllocator\n",
      "Inserting extra monitors into graphs\n",
      "|0%                          50%                         100%|\n",
      " ============================================================\n",
      "2022-06-10 21:15:12 INFO: Time 0:00:00.035678 taken by InsertExtraMonitorVerticesToGraphs\n",
      "Writing the board chip report\n",
      "|0%                          50%                         100%|\n",
      " ============================================================\n",
      "2022-06-10 21:15:12 INFO: Time 0:00:00.008619 taken by BoardChipReport\n",
      "Getting number of keys required by each edge using application graph\n",
      "|0%                          50%                         100%|\n",
      " ============================================================\n",
      "2022-06-10 21:15:12 INFO: Time 0:00:00.028808 taken by EdgeToNKeysMapper\n",
      "2022-06-10 21:15:12 INFO: The time scale factor could be reduced to 0\n",
      "2022-06-10 21:15:12 INFO: Time 0:00:00.000832 taken by LocalTDMABuilder\n",
      "Placing graph vertices via spreading over an entire machine\n",
      "|0%                          50%                         100%|\n",
      " ============================================================\n",
      "2022-06-10 21:15:12 INFO: Time 0:00:00.018701 taken by SpreaderPlacer\n",
      "Inserting edges between vertices which require FR speed up functionality.\n",
      "|0%                          50%                         100%|\n",
      " ==============================2022-06-10 21:15:12 INFO: Time 0:00:00.028041 taken by InsertEdgesToExtraMonitorFunctionality\n",
      "Generating routing tables for data in system processes\n",
      "|0%                          50%                         100%|\n",
      " ============================================================\n",
      "2022-06-10 21:15:12 INFO: Time 0:00:00.010096 taken by SystemMulticastRoutingGenerator\n",
      "Generating fixed router routes\n",
      "|0%                          50%                         100%|\n",
      " ============================================================\n",
      "2022-06-10 21:15:12 INFO: Time 0:00:00.008751 taken by FixedRouteRouter\n",
      "Generating placement report\n",
      "|0%                          50%                         100%|\n",
      " ============================================================\n",
      "Generating placement by core report\n",
      "|0%                          50%                         100%|\n",
      " ============================================================\n",
      "2022-06-10 21:15:12 INFO: Time 0:00:00.065910 taken by PlacerReportWithApplicationGraph\n",
      "Routing\n",
      "|0%                          50%                         100%|\n",
      " ============================================================\n",
      "\n",
      "2022-06-10 21:15:12 INFO: Time 0:00:00.039780 taken by NerRouteTrafficAware\n",
      "Discovering tags\n",
      "|0%                          50%                         100%|\n",
      " ============================================================\n",
      "Allocating tags\n",
      "|0%                          50%                         100%|\n",
      " ============================================================\n",
      "2022-06-10 21:15:13 INFO: Time 0:00:00.046513 taken by BasicTagAllocator\n",
      "Reporting Tags\n",
      "|0%                          50%                         100%|\n",
      " ============================================================\n",
      "2022-06-10 21:15:13 INFO: Time 0:00:00.009323 taken by TagReport\n",
      "Getting constraints for machine graph\n",
      "|0%                          50%                         100%|\n",
      " ============================================================\n",
      "2022-06-10 21:15:13 INFO: Time 0:00:00.033129 taken by ProcessPartitionConstraints\n",
      "Calculating zones\n",
      "|0%                          50%                         100%|\n",
      " ============================================================\n",
      "Allocating routing keys\n",
      "|0%                          50%                         100%|\n",
      " ============================================================\n",
      "2022-06-10 21:15:13 INFO: Time 0:00:00.016332 taken by ZonedRoutingInfoAllocator\n",
      "Generating Routing info report\n",
      "|0%                          50%                         100%|\n",
      " ============================================================\n",
      "2022-06-10 21:15:13 INFO: Time 0:00:00.005947 taken by routingInfoReports\n",
      "Generating routing tables\n",
      "|0%                          50%                         100%|\n",
      " ============================================================\n",
      "2022-06-10 21:15:13 INFO: Time 0:00:00.033167 taken by BasicRoutingTableGenerator\n",
      "2022-06-10 21:15:13 INFO: Time 0:00:00.000133 taken by RouterCollisionPotentialReport\n",
      "Finding executable start types\n",
      "|0%                          50%                         100%|\n",
      " ============================================================\n",
      "2022-06-10 21:15:13 INFO: Time 0:00:00.035862 taken by LocateExecutableStartType\n",
      "Initialising buffers\n",
      "|0%                          50%                         100%|\n",
      " ============================================================\n",
      "2022-06-10 21:15:13 INFO: Time 0:00:00.032620 taken by BufferManagerCreator\n",
      "Allocating SDRAM for SDRAM outgoing egde partitions\n",
      "|0%                          50%                         100%|\n",
      " ============================================================\n",
      "2022-06-10 21:15:13 INFO: Time 0:00:00.028716 taken by SDRAMOutgoingPartitionAllocator\n",
      "Generating data specifications\n",
      "|0%                          50%                         100%|\n",
      " ============================================================\n",
      "2022-06-10 21:15:13 INFO: Time 0:00:00.074399 taken by SpynnakerDataSpecificationWriter\n",
      "Preparing Routing Tables\n",
      "|0%                          50%                         100%|\n",
      " ============================================================\n",
      "2022-06-10 21:15:13 INFO: Time 0:00:00.011416 taken by RoutingSetup\n",
      "Finding binaries\n",
      "|0%                          50%                         100%|\n",
      " ============================================================\n",
      "2022-06-10 21:15:13 INFO: Time 0:00:00.036511 taken by GraphBinaryGatherer\n",
      "Running pair routing table compression on chip\n",
      "|0%                          50%                         100%|\n",
      " ============================================================\n",
      "\n",
      "2022-06-10 21:15:16 INFO: Time 0:00:03.410562 taken by PairOnChipRouterCompression\n",
      "Generating Router table report\n",
      "|0%                          50%                         100%|\n",
      " ============================================================\n",
      "2022-06-10 21:15:16 INFO: Time 0:00:00.008189 taken by unCompressedRoutingTableReports\n",
      "loading fixed routes\n",
      "|0%                          50%                         100%|\n",
      " ============================================================\n",
      "2022-06-10 21:15:16 INFO: Time 0:00:00.043796 taken by LoadFixedRoutes\n",
      "Executing data specifications and loading data for system vertices using Java\n",
      "|0%                          50%                         100%|\n",
      " ============================================================\n",
      "2022-06-10 21:15:17 INFO: Time 0:00:01.098270 taken by HostExecuteSystemDataSpecification\n",
      "Loading system executables onto the machine\n",
      "|0%                          50%                         100%|\n",
      " ============================================================\n",
      "2022-06-10 21:15:23 INFO: Time 0:00:05.755768 taken by LoadSystemExecutableImages\n",
      "2022-06-10 21:15:23 INFO: Time 0:00:00.001981 taken by TagsFromMachineReport\n",
      "Clearing tags\n",
      "|0%                          50%                         100%|\n",
      " ============================================================\n",
      "Loading Tags\n",
      "|0%                          50%                         100%|\n",
      " ============================================================\n",
      "2022-06-10 21:15:23 INFO: Time 0:00:00.019502 taken by TagsLoader\n",
      "Executing data specifications and loading data for application vertices using Java\n",
      "|0%                          50%                         100%|\n",
      " ============================================================\n",
      "2022-06-10 21:15:24 INFO: Time 0:00:01.001141 taken by HostExecuteApplicationDataSpecification\n",
      "Preparing to Expand Synapses\n",
      "|0%                          50%                         100%|\n",
      " ============================================================\n",
      "Expanding Synapses\n",
      "|0%                          50%                         100%|\n",
      " ============================================================\n",
      "\n",
      "\n",
      "2022-06-10 21:15:25 INFO: Time 0:00:00.546802 taken by SynapseExpander\n",
      "Running bitfield generation on chip\n",
      "|0%                          50%                         100%|\n",
      " ============================================================\n",
      "\n",
      "\n",
      "2022-06-10 21:15:28 INFO: Time 0:00:03.213446 taken by OnChipBitFieldGenerator\n",
      "Finalising Retrieved Connections\n",
      "|0%                          50%                         100%|\n",
      " ============================================================\n",
      "2022-06-10 21:15:28 INFO: Time 0:00:00.026130 taken by FinishConnectionHolders\n",
      "Reading Routing Tables from Machine\n",
      "|0%                          50%                         100%|\n",
      " ============================================================\n",
      "2022-06-10 21:15:28 INFO: Time 0:00:00.018744 taken by ReadRoutingTablesFromMachine\n",
      "Generating compressed router table report\n",
      "|0%                          50%                         100%|\n",
      " ============================================================\n",
      "2022-06-10 21:15:28 INFO: Time 0:00:00.014541 taken by compressedRoutingTableReports\n",
      "Generating comparison of router table report\n",
      "|0%                          50%                         100%|\n",
      " ============================================================\n",
      "2022-06-10 21:15:28 INFO: Time 0:00:00.006634 taken by comparisonOfRoutingTablesReport\n",
      "Generating Routing summary report\n",
      "|0%                          50%                         100%|\n",
      " ============================================================\n",
      "2022-06-10 21:15:28 INFO: Time 0:00:00.025425 taken by CompressedRouterSummaryReport\n",
      "Reading Routing Tables from Machine\n",
      "|0%                          50%                         100%|\n",
      " ============================================================\n",
      "2022-06-10 21:15:28 INFO: Time 0:00:00.017692 taken by RoutingTableFromMachineReport\n",
      "Writing fixed route report\n",
      "|0%                          50%                         100%|\n",
      " ============================================================\n",
      "2022-06-10 21:15:28 INFO: Time 0:00:00.047949 taken by FixedRouteFromMachineReport\n",
      "Loading executables onto the machine\n",
      "|0%                          50%                         100%|\n",
      " ============================================================\n",
      "2022-06-10 21:15:35 INFO: Time 0:00:06.798247 taken by LoadApplicationExecutableImages\n",
      "2022-06-10 21:15:35 INFO: Running for 1 steps for a total of 1000.0ms\n",
      "2022-06-10 21:15:35 INFO: Run 1 of 1\n",
      "Generating SDRAM usage report\n",
      "|0%                          50%                         100%|\n",
      " ============================================================\n",
      "2022-06-10 21:15:35 INFO: Time 0:00:00.065650 taken by SdramUsageReportPerChip\n",
      "2022-06-10 21:15:35 INFO: creating live event connection database in /home/bbpnrsoa/reports/2022-06-10-21-14-40-154801/run_1/input_output_database.db\n",
      "Creating graph description database\n",
      "|0%                          50%                         100%|\n",
      " ============================================================\n",
      "2022-06-10 21:15:35 INFO: Time 0:00:00.050205 taken by DatabaseInterface\n",
      "2022-06-10 21:15:35 INFO: ** Notifying external sources that the database is ready for reading **\n",
      "2022-06-10 21:15:35 INFO: Time 0:00:00.001182 taken by CreateNotificationProtocol\n",
      "Getting provenance data from machine graph\n",
      "|0%                          50%                         100%|2022-06-10 21:15:35 INFO: 0.0.0.0:39318 Reading database\n",
      "\n",
      " 2022-06-10 21:15:35 INFO: database is at /home/bbpnrsoa/reports/2022-06-10-21-14-40-154801/run_1/input_output_database.db\n",
      "=====2022-06-10 21:15:35 INFO: Notifying the toolchain that the database has been read\n",
      "=2022-06-10 21:15:35 INFO: ** Confirmation from 127.0.0.1:39318 received, continuing **\n",
      "2022-06-10 21:15:35 INFO: Waiting for message to indicate that the simulation has started or resumed\n",
      "======================================================\n",
      "Getting provenance data from application graph\n",
      "|0%                          50%                         100%|\n",
      " ============================================================\n",
      "2022-06-10 21:15:35 INFO: Time 0:00:00.099323 taken by GraphProvenanceGatherer\n",
      "Waiting for cores to be either in PAUSED or READY state\n",
      "|0%                          50%                         100%|\n",
      " ============================================================\n",
      "Updating run time\n",
      "|0%                          50%                         100%|\n",
      " ============================================================\n",
      "2022-06-10 21:15:35 INFO: Time 0:00:00.037989 taken by ChipRuntimeUpdater\n",
      "2022-06-10 21:15:35 INFO: *** Running simulation... *** \n",
      "Loading buffers\n",
      "|0%                          50%                         100%|\n",
      " ============================================================\n",
      "2022-06-10 21:15:35 INFO: ** Awaiting for a response from an external source to state its ready for the simulation to start **\n",
      "2022-06-10 21:15:35 INFO: ** Sending start / resume message to external sources to state the simulation has started or resumed. **\n",
      "2022-06-10 21:15:35 INFO: ** Awaiting for a response from an external source to state its ready for the simulation to start **\n",
      "2022-06-10 21:15:35 INFO: Application started; waiting 1.1s for it to stop\n",
      "2022-06-10 21:15:35 INFO: Waiting for message to indicate that the simulation has stopped or paused\n",
      "2022-06-10 21:15:36 INFO: ** Sending pause / stop message to external sources to state the simulation has been paused or stopped. **\n",
      "2022-06-10 21:15:36 INFO: Time 0:00:01.201693 taken by ApplicationRunner\n",
      "Extracting IOBUF from the machine\n",
      "|0%                          50%                         100%|\n",
      " ============================================================\n",
      "2022-06-10 21:15:36 INFO: Time 0:00:00.039345 taken by ChipIOBufExtractor\n",
      "clearing IOBUF from the machine\n",
      "|0%                          50%                         100%|\n",
      " ============================================================\n",
      "2022-06-10 21:15:37 INFO: Time 0:00:00.007086 taken by ChipIOBufClearer\n",
      "Extracting buffers from the last run\n",
      "|0%                          50%                         100%|\n",
      " ============================================================\n",
      "\n",
      "2022-06-10 21:15:38 INFO: Time 0:00:01.005944 taken by BufferExtractor\n",
      "2022-06-10 21:15:38 INFO: Time 0:00:00.000180 taken by FinaliseTimingData\n",
      "Getting provenance data\n",
      "|0%                          50%                         100%|\n",
      " ============================================================\n",
      "2022-06-10 21:15:38 INFO: Time 0:00:00.033088 taken by PlacementsProvenanceGatherer\n",
      "2022-06-10 21:15:38 INFO: Time 0:00:00.001367 taken by RedundantPacketCountReport\n",
      "Getting Router Provenance\n",
      "|0%                          50%                         100%|\n",
      " ============================================================\n",
      "2022-06-10 21:15:38 INFO: Time 0:00:00.053319 taken by RouterProvenanceGatherer\n",
      "Getting profile data\n",
      "|0%                          50%                         100%|\n",
      " ============================================================\n",
      "2022-06-10 21:15:38 INFO: Time 0:00:00.042837 taken by ProfileDataGatherer\n"
     ]
    },
    {
     "data": {
      "text/plain": [
       "1000.0"
      ]
     },
     "execution_count": 19,
     "metadata": {},
     "output_type": "execute_result"
    }
   ],
   "source": [
    "#executando a simulação 1000 segundos\n",
    "sim.run(1000)"
   ]
  },
  {
   "cell_type": "code",
   "execution_count": 20,
   "id": "49b58dd9",
   "metadata": {},
   "outputs": [
    {
     "name": "stderr",
     "output_type": "stream",
     "text": [
      "Getting spikes for pop\n",
      "|0%                          50%                         100%|\n",
      " ============================================================\n",
      "Getting v for pop\n",
      "|0%                          50%                         100%|\n",
      " ============================================================"
     ]
    },
    {
     "name": "stdout",
     "output_type": "stream",
     "text": [
      "[<SpikeTrain(array([19.]) * ms, [0.0 ms, 1000.0 ms])>, <SpikeTrain(array([119.]) * ms, [0.0 ms, 1000.0 ms])>, <SpikeTrain(array([119.]) * ms, [0.0 ms, 1000.0 ms])>, <SpikeTrain(array([119.]) * ms, [0.0 ms, 1000.0 ms])>, <SpikeTrain(array([119.]) * ms, [0.0 ms, 1000.0 ms])>]\n",
      "[[-65.         -65.         -65.         -65.         -65.        ]\n",
      " [-65.         -65.         -65.         -65.         -65.        ]\n",
      " [-65.         -65.         -65.         -65.         -65.        ]\n",
      " ...\n",
      " [-64.99938965 -64.99938965 -64.99938965 -64.99938965 -64.99938965]\n",
      " [-64.99938965 -64.99938965 -64.99938965 -64.99938965 -64.99938965]\n",
      " [-64.99938965 -64.99938965 -64.99938965 -64.99938965 -64.99938965]] mV\n"
     ]
    },
    {
     "name": "stderr",
     "output_type": "stream",
     "text": [
      "\n"
     ]
    }
   ],
   "source": [
    "#obtendo os spikes da simulação\n",
    "data_sim = pop.get_data([\"spikes\", \"v\"])\n",
    "spikes = data_sim.segments[0].spiketrains\n",
    "print(spikes)\n",
    "v = data_sim.segments[0].filter(name='v')[0]\n",
    "print(v)"
   ]
  },
  {
   "cell_type": "code",
   "execution_count": 21,
   "id": "935467b6",
   "metadata": {},
   "outputs": [],
   "source": [
    "sim.end() #finalizando simulação"
   ]
  },
  {
   "cell_type": "code",
   "execution_count": 22,
   "id": "d46a0406",
   "metadata": {
    "scrolled": true
   },
   "outputs": [
    {
     "name": "stdout",
     "output_type": "stream",
     "text": [
      "[<SpikeTrain(array([19.]) * ms, [0.0 ms, 1000.0 ms])>, <SpikeTrain(array([119.]) * ms, [0.0 ms, 1000.0 ms])>, <SpikeTrain(array([119.]) * ms, [0.0 ms, 1000.0 ms])>, <SpikeTrain(array([119.]) * ms, [0.0 ms, 1000.0 ms])>, <SpikeTrain(array([119.]) * ms, [0.0 ms, 1000.0 ms])>]\n"
     ]
    }
   ],
   "source": [
    "print(spikes)"
   ]
  },
  {
   "cell_type": "code",
   "execution_count": 23,
   "id": "3c5725d1",
   "metadata": {},
   "outputs": [
    {
     "data": {
      "text/plain": [
       "<pyNN.utility.plotting.Figure at 0x7f49085e42e0>"
      ]
     },
     "execution_count": 23,
     "metadata": {},
     "output_type": "execute_result"
    },
    {
     "data": {
      "image/png": "[encoded data removed]",
      "text/plain": [
       "<Figure size 432x374.4 with 2 Axes>"
      ]
     },
     "metadata": {
      "needs_background": "light"
     },
     "output_type": "display_data"
    }
   ],
   "source": [
    "import pyNN.utility.plotting as plot\n",
    "import matplotlib.pyplot as plt\n",
    "%matplotlib inline\n",
    "\n",
    "\n",
    "%matplotlib inline\n",
    "plot.Figure(\n",
    "    # plot voltage for first ([0]) neuron\n",
    "    plot.Panel(v, ylabel=\"Membrane potential (mV)\",\n",
    "               data_labels=[pop.label], yticks=True, xlim=(0, 1000)),\n",
    "    # plot spikes (or in this case spike)\n",
    "    plot.Panel(spikes, yticks=True, markersize=5, xlim=(0, 1000)),\n",
    "    title=\"Plotando spikes na menbrana potencial\",\n",
    "    annotations=\"Simulated with {}\".format(sim.name())\n",
    ")"
   ]
  },
  {
   "cell_type": "code",
   "execution_count": null,
   "id": "ede8d8e3",
   "metadata": {},
   "outputs": [],
   "source": []
  }
 ],
 "metadata": {
  "kernelspec": {
   "display_name": "sPyNNaker",
   "language": "python",
   "name": "spynnaker"
  },
  "language_info": {
   "codemirror_mode": {
    "name": "ipython",
    "version": 3
   },
   "file_extension": ".py",
   "mimetype": "text/x-python",
   "name": "python",
   "nbconvert_exporter": "python",
   "pygments_lexer": "ipython3",
   "version": "3.8.5"
  }
 },
 "nbformat": 4,
 "nbformat_minor": 5
}
